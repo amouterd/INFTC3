{
 "cells": [
  {
   "cell_type": "markdown",
   "metadata": {},
   "source": [
    "# <center>Informatique tc3 (Projet Web) - TD1</center>"
   ]
  },
  {
   "cell_type": "markdown",
   "metadata": {},
   "source": [
    "## <center style=\"color: #66d\">Gestion du projet avec gitlab / Base de données SQLite</center>"
   ]
  },
  {
   "cell_type": "markdown",
   "metadata": {},
   "source": [
    "Dans le cadre de ce TD :\n",
    "* Nous regarderons comment utiliser le serveur _gitlab_ de l'Ecole Centrale pour créer un environnement de développement collaboratif pour votre projet.\n",
    "* Nous créerons une base de données et développerons du code Python pour lire des données et les réutiliser pour obtenir des représentations graphiques."
   ]
  },
  {
   "cell_type": "markdown",
   "metadata": {},
   "source": [
    "### 1. Gestion du projet avec gitlab (30 min.)"
   ]
  },
  {
   "cell_type": "markdown",
   "metadata": {},
   "source": [
    "Vous avez consitué avant ce TD un groupe de projet avec 4 ou 5 camarades. Si ce n'est pas le cas, dépéchez-vous d'aller vous inscrire sur : \"http://pedagogie1.ec-lyon.fr/\" section \"Inscription aux sous-groupes de projet\"\n",
    "\n",
    "Pour bien gérer le développement collaboratif de votre projet vous devrez utiliser le <a href=\"https://gitlab.ec-lyon.fr/\">serveur gitlab de l'Ecole Centrale</a>. L'usage de gitlab par __tous__ les membres du groupe de projet fera partie des critères d'évaluation."
   ]
  },
  {
   "cell_type": "markdown",
   "metadata": {},
   "source": [
    "__1.1. Prise en main de gitlab et de GitHub Desktop :__\n",
    "\n",
    "Si vous ne l'avez pas déjà fait dans le cours INF tc2...\n",
    "<div style=\"background-color:#eef;padding:10px;border-radius:3px\">\n",
    "Suivez le <a href=\"https://gitlab.ec-lyon.fr/sderrode/INF-TC2/-/blob/master/tuto-git-gitlab/tuto-git-gitlab.md\"> tutoriel de prise en main de gitlab et de l'outil GitHub Desktop</a> "
   ]
  },
  {
   "cell_type": "markdown",
   "metadata": {},
   "source": [
    "A la suite de ce tutoriel vous devez disposer :\n",
    "* d'un compte personnel opérationnel sur le serveur gitlab de l'Ecole : \"https://gitlab.ec-lyon.fr\"\n",
    "* du logiciel GitHub Desktop installé sur votre machine"
   ]
  },
  {
   "cell_type": "markdown",
   "metadata": {},
   "source": [
    "__1.2. Création de votre environnement de projet :__\n",
    "\n",
    "Dans votre groupe un des membres (appelons-le <i>chef de projet</i>) va créer le dépôt de travail sur son espace personnel dans \"https://gitlab.ec-lyon.fr\" et le partager avec les autres membres du groupe.\n",
    "\n",
    "<div style=\"background-color:#eef;padding:10px;border-radius:3px\">\n",
    "Le <i>chef de projet</i> :<ul>\n",
    "<li>Crée un nouveau projet dans son espace personnel sur \"gitlab.ec-lyon.fr\". L'accès à ce projet devra être réglé sur \"<b>private</b>\".\n",
    "           <li>En créant ce projet, il crée un fichier README.MD contenant le titre du sujet et son nom sur une 2ème ligne. \n",
    "    <li>Dans l'onglet \"membres\" il invite les autres membres du groupe <b>ainsi que le chargé de TD</b> en leur donnant le statut \"<b>developer</b>\"\n",
    "\n",
    "</ul>\n",
    "    </div>\n",
    "    <br>\n",
    "    <div style=\"background-color:#eef;padding:10px;border-radius:3px\">\n",
    "    <p><i>Tous les membres</i> :<ul> \n",
    "    <li>Vérifient qu'ils ont bien les droits suffisants sur cet espace\n",
    "    <li>Avec <i>Github Desktop</i> (ou les commandes <i>git</i> pour ceux qui maitrisent), clonent ce dossier sur leur ordinateur personnel.\n",
    "    </ul>\n",
    "     </div>\n",
    "  "
   ]
  },
  {
   "cell_type": "markdown",
   "metadata": {},
   "source": [
    "Le _chef de projet_ doit communiquer au plus tôt au chargé de TD l'adresse du dépôt gitlab du projet."
   ]
  },
  {
   "cell_type": "markdown",
   "metadata": {},
   "source": [
    "__1.3 Worflow de travail collaboratif :__\n",
    "\n",
    "Il faut d'abord répartir les rôles au sein de votre groupe et savoir \"qui fait quoi\". Le consigner par écrit, par exemple dans une page de wiki du dépôt, est probablement une bonne idée.\n",
    "\n",
    "Ensuite chaque membre du groupe travaille sur une copie locale sur sa machine. Lorsqu'il estime avoir atteint un niveau suffisament stable de son code, il fait un _commit_ puis un _push_ pour publier ses modifications sur le dépôt gitlab. Les autres peuvent alors faire un _pull_ pour récupérer la mise à jour.\n",
    "\n",
    "L'approche la plus simple consiste à autoriser les \"developer\" a _pusher_ directement dans la branche _master_. \n",
    "\n",
    "<div style=\"background-color:#eef;padding:10px;border-radius:3px\">\n",
    "Pour cela, le <i>chef de projet</i> doit éditer les permissions sur cette branche :<ul>\n",
    "<li> dans l'interface de gitlab, ouvrir le menu \"Settings | Repository\"\n",
    "<li> dans la section \"Protected branches\", dans le tableau cliquer sur le bouton \"Unprotect\" pour la branche <i>master</i>\n",
    "    </ul>\n",
    "</div>"
   ]
  },
  {
   "cell_type": "markdown",
   "metadata": {},
   "source": [
    "Sinon (fonctionnement par défaut), avec le statut \"developer\", les membres doivent créer une nouvelle branche à chaque _push_ et doivent demander un _merge request_ pour que le _chef de projet_ (qui a le statut \"maintener\") fasse la fusion avec la branche \"master\". S'il y a des conflits à la fusion, le _chef de projet_ doit les régler pour finaliser le _merge_\n",
    "\n",
    "Alternativement le _chef de projet_ peut donner le statut \"maintener\" à tous les membres du groupe (ce qui donne tous les droits à tout le monde) mais à ses riques et périls :-)"
   ]
  },
  {
   "cell_type": "markdown",
   "metadata": {},
   "source": [
    "<div style=\"background-color:#eef;padding:10px;border-radius:3px\">\n",
    "    Pour tester le workflow, faites l'exercice suivant.\n",
    "Pour chaque membre :<ul>\n",
    "    <li>Faire un <i>pull</i> du dépôt avec <i>Github Desktop</i> (normalement déjà fait par le <i>clone</i> à la section 1.2) \n",
    "    <li>Editer en local le fichier README.MD avec un éditeur de texte pour rajouter son nom sur une nouvelle ligne à la fin du fichier\n",
    "    <li>Faire un <i>commit</i> de ses changements avec <i>Github Desktop</i>\n",
    "    <li>Faire un <i>push</i> de ses modifications sur le dépôt du projet. Si d'autres membres ont fait un <i>push</i> avant vous, vous serez obligé de refaire un <i>pull</i> de ces modifications pour vous resynchroniser avec le dépôt. Dans ce cas vous devrez d'abord résoudre les éventuels <i>merge conflicts</i> avec l'éditeur de <i>Github Desktop</i> avant de pouvoir retenter votre <i>push</i>...\n",
    "</ul>\n",
    "    </div>"
   ]
  },
  {
   "cell_type": "markdown",
   "metadata": {},
   "source": [
    "### 2. Création d'une base de données SQLite (15 min.)"
   ]
  },
  {
   "cell_type": "markdown",
   "metadata": {},
   "source": [
    "La base de données sera au format SQLite _(fichier .sqlite)._ Toutes les opérations sur une base de données de ce type peuvent être effectuées depuis Python via le module _sqlite3_.\n",
    "\n",
    "Nous utiliserons l'outil \"DB Browser for SQLite\". Normalement, vous l'avez déjà installé dans le cadre du cours INF tc2. Sinon ... \n",
    "\n",
    "<div style=\"background-color:#eef;padding:10px;border-radius:3px\">\n",
    "Télécharger et installer <a href=\"http://sqlitebrowser.org/\">DB Browser for SQLite</a> en suivant les instructions d'installation en fonction de votre système d'exploitation.\n",
    "<p>\n",
    "Démarrer DB Browser for SQLite."
   ]
  },
  {
   "cell_type": "markdown",
   "metadata": {},
   "source": [
    "__2.1. Création d'une base SQLite :__\n",
    "<div style=\"background-color:#eef;padding:10px;border-radius:3px\">\n",
    "<p>Dans DB Browser, cliquer sur le bouton \"New Database\" pour créer une base de donnée :<ul>\n",
    "<li>Naviguer dans l'arborescence pour se placer dans le répertoire de travail du TD1. \n",
    "<li>Nommer cette base \"ter.sqlite\" et l'enregistrer.\n",
    "</ul>"
   ]
  },
  {
   "cell_type": "markdown",
   "metadata": {},
   "source": [
    "__2.2. Importation des données :__\n",
    "\n",
    "Dans ce TD nous travaillons sur des données ouvertes fournies par la SCNF et récupérées sur son portail https://data.sncf.com. Le fichier pris comme exemple contient les statistiques sur la régularité mensuelle des circulations des TER de janvier 2013 à nos jours. \n",
    "\n",
    "Le fichier  dont vous avez besoin se trouve normalement dans votre répertoire de travail (car il était dans le fichier ZIP du TD1 que vous avez décompacté).\n",
    "\n",
    "Ce fichier est au format <a href=\"https://fr.wikipedia.org/wiki/Comma-separated_values\">CSV</a> (Comma-Separated Values). Il s'agit d'un fichier contenant du texte (qui peut à ce titre être ouvert et consulté à l'aide du bloc-notes) qui représente un tableau de  données, dont chaque ligne contient une liste de valeurs séparées par des virgules (ou tout autre <i>caractère séparateur</i>).\n",
    "\n",
    "Le contenu du fichier est constitué de données séparées par le caractère ; <i>point-virgule</i>. Lorsqu'une valeur contient elle-même le caractère séparateur, cette valeur est délimitée par des \" <i>guillemets doubles</i>.\n",
    "\n",
    "Il est encodé en <a href=\"https://fr.wikipedia.org/wiki/UTF-8\">UTF-8</a>. C'est la convention choisie pour représenter les caractères alphabétiques et autres, par un code numérique sur le disque et/ou dans la mémoire de l'ordinateur."
   ]
  },
  {
   "cell_type": "markdown",
   "metadata": {},
   "source": [
    "<div style=\"background-color:#eef;padding:10px;border-radius:3px\">\n",
    "Dans le menu <i>File</i> choisir la fonction \"import > Table from CSV file...\"<br>\n",
    "Ouvrir le fichier <tt>regularite-mensuelle-ter.csv</tt><br>\n",
    "Un boite de dialogue s'ouvre :<ul>\n",
    "<li>cocher la case \"column names in first line\"\n",
    "<li>choisir comme \"field separator\" = \";\"\n",
    "<li>choisir pour \"encoding\" = \"UTF-8\"\n",
    "</ul>"
   ]
  },
  {
   "cell_type": "markdown",
   "metadata": {},
   "source": [
    "Normalement vous devez obtenir la structure suivante :\n",
    "<img src=\"TD1-schemaDB.png\">\n",
    "\n",
    "Et en cliquant sur \"Browse data\" vous pouvez parcourir le contenu de la table :\n",
    "<img src=\"TD1-contentDB.png\">\n"
   ]
  },
  {
   "cell_type": "markdown",
   "metadata": {},
   "source": [
    "La description des différents champs est disponible ici (section Modèle de données) :\n",
    "__https://ressources.data.sncf.com/explore/dataset/regularite-mensuelle-ter/information/?disjunctive.region__"
   ]
  },
  {
   "cell_type": "markdown",
   "metadata": {},
   "source": [
    "### 3. Lecture des données et premières requêtes SQL (15 min.)"
   ]
  },
  {
   "cell_type": "markdown",
   "metadata": {},
   "source": [
    "L'accès à une base de données SQLite se fait en python en important le module `sqlite3` et en ouvrant une connexion avec la base. La documentation est accessible ici : __https://docs.python.org/2/library/sqlite3.html__"
   ]
  },
  {
   "cell_type": "markdown",
   "metadata": {},
   "source": [
    "Pour exécuter des requêtes SQL il faut créer un objet `cursor` et appeler la méthode `execute`. les résultats sont récupérés par la méthode `fetchall` (on pourrait aussi utiliser les méthodes `fetchone` et `fetchmany`). Normalement le code suivant doit retourner le contenu de la base sous forme d'une liste de tuples."
   ]
  },
  {
   "cell_type": "code",
   "execution_count": null,
   "metadata": {
    "collapsed": true
   },
   "outputs": [],
   "source": [
    "import sqlite3\n",
    "\n",
    "# ouverture d'une connexion avec la base de données\n",
    "conn = sqlite3.connect('ter.sqlite')\n",
    "\n",
    "c = conn.cursor()\n",
    "c.execute(\"SELECT * FROM 'regularite-mensuelle-ter'\")\n",
    "r = c.fetchall()\n",
    "for a in r:\n",
    "    print (a)"
   ]
  },
  {
   "cell_type": "markdown",
   "metadata": {},
   "source": [
    "En vous appuyant sur la documentation du langage SQL : __https://sqlite.org/lang.html__, réaliser les quelques exercices suivants."
   ]
  },
  {
   "cell_type": "markdown",
   "metadata": {},
   "source": [
    "<div style=\"background-color:#eef;padding:10px;border-radius:3px\">\n",
    "<b>3.1.</b> Ecrivez un programme Python qui affiche la liste des régions présentes dans la table."
   ]
  },
  {
   "cell_type": "code",
   "execution_count": null,
   "metadata": {
    "collapsed": true
   },
   "outputs": [],
   "source": [
    "# votre code ici\n"
   ]
  },
  {
   "cell_type": "markdown",
   "metadata": {},
   "source": [
    "Vous remarquerez qu'il y a trop de Régions... En effet, non seulement il y a les anciennes et nouvelles régions mais en plus certaines régions ont 2 orthographes différentes !"
   ]
  },
  {
   "cell_type": "markdown",
   "metadata": {},
   "source": [
    "<div style=\"background-color:#eef;padding:10px;border-radius:3px\">\n",
    "<b>3.2.</b> Ecrivez un programme Python qui affiche la liste des différents zones TER présentes dans la table (champ `ID`)."
   ]
  },
  {
   "cell_type": "code",
   "execution_count": null,
   "metadata": {
    "collapsed": true
   },
   "outputs": [],
   "source": [
    "# votre code ici\n"
   ]
  },
  {
   "cell_type": "markdown",
   "metadata": {},
   "source": [
    "<div style=\"background-color:#eef;padding:10px;border-radius:3px\">\n",
    "<b>3.3.</b> Ecrivez un programme Python qui affiche la liste des différents paires (zones TER, Région) présentes dans la table en triant la réponse dans l'ordre croissant des zones. Vous remarquerez que depuis le nouveau découpage des régions au 1er janvier 2017, une même zone TER peut correspondre à des régions différentes..."
   ]
  },
  {
   "cell_type": "code",
   "execution_count": null,
   "metadata": {
    "collapsed": true
   },
   "outputs": [],
   "source": [
    "# votre code ici\n"
   ]
  },
  {
   "cell_type": "markdown",
   "metadata": {},
   "source": [
    "<div style=\"background-color:#eef;padding:10px;border-radius:3px\">\n",
    "<b>3.4.</b> Ecrivez un programme Python qui affiche le nombre total de trains arrivés en retard pour la région Rhône-Alpes (ID='TER_20') pour l'année 2015.\n",
    "\n",
    "_Remarque_ : la date est stockée dans le champ `Date` sous forme \"AAAA-MM\" ou AAAA est l'année et MM le mois."
   ]
  },
  {
   "cell_type": "code",
   "execution_count": null,
   "metadata": {
    "collapsed": true
   },
   "outputs": [],
   "source": [
    "# votre code ici\n"
   ]
  },
  {
   "cell_type": "markdown",
   "metadata": {},
   "source": [
    "### 4. Tracé de courbes de régularité des TER avec matplotlib (30 min.)"
   ]
  },
  {
   "cell_type": "markdown",
   "metadata": {},
   "source": [
    "Après ces quelques exemples basiques, on va chercher à visualiser les données de notre table sous formes de courbes ce qui est bien plus parlant que des tableaux de chiffres."
   ]
  },
  {
   "cell_type": "markdown",
   "metadata": {},
   "source": [
    "<div style=\"background-color:#eef;padding:10px;border-radius:3px\">\n",
    "<b>4.1.</b> Ecrivez un programme Python qui récupère le contenu de la table <tt>regularite-mensuelle-ter</tt>, mois par mois, dans l'ordre, pour la région Rhône-Alpes <tt>(ID=TER_20)</tt> puis les affiche."
   ]
  },
  {
   "cell_type": "code",
   "execution_count": null,
   "metadata": {
    "collapsed": true
   },
   "outputs": [],
   "source": [
    "# votre code ici\n"
   ]
  },
  {
   "cell_type": "markdown",
   "metadata": {},
   "source": [
    "Pour tracer des courbes nous utilisons `pyplot` de la bibliothèque standard `matplotlib`. On consultera utilement <a href=\"http://matplotlib.org/users/pyplot_tutorial.html\">ce tutoriel</a> et <a href=\"https://matplotlib.org/api/pyplot_summary.html\">la documentation complète</a>."
   ]
  },
  {
   "cell_type": "markdown",
   "metadata": {},
   "source": [
    "<div style=\"background-color:#eef;padding:10px;border-radius:3px\">\n",
    "<b>4.2.</b>  En vous référant au <a href=\"http://matplotlib.org/users/pyplot_tutorial.html\">tutoriel pyplot</a>, tracez la courbe de régularité correspondant à ces données.\n",
    "\n",
    "<img src=\"TD1-graph1.png\">"
   ]
  },
  {
   "cell_type": "code",
   "execution_count": null,
   "metadata": {
    "collapsed": true
   },
   "outputs": [],
   "source": [
    "# votre code ici\n"
   ]
  },
  {
   "cell_type": "markdown",
   "metadata": {},
   "source": [
    "L'affichage pour l'axe des ordonnées est correct, par contre pour les abscisses, on va chercher à afficher les dates. Pour cela on va faire une conversion de la représentation interne des dates vers le format des dates manipulables par matplotlib grace aux modules __<a href=\"https://docs.python.org/3/library/datetime.html\">datetime</a>__ et __<a href=\"https://matplotlib.org/api/dates_api.html\">matplotlib.dates</a>__."
   ]
  },
  {
   "cell_type": "code",
   "execution_count": null,
   "metadata": {
    "collapsed": true
   },
   "outputs": [],
   "source": [
    "import datetime as dt\n",
    "import matplotlib.dates as pltd\n",
    "x = [pltd.date2num(dt.date(int(a[1][:4]),int(a[1][5:]),1)) for a in r if not a[7] == '']\n",
    "y = [float(a[7]) for a in r if not a[7] == '']"
   ]
  },
  {
   "cell_type": "markdown",
   "metadata": {},
   "source": [
    "On remarquera la présence d'un test permettant d'éliminer les points qui n'ont pas de données valides."
   ]
  },
  {
   "cell_type": "markdown",
   "metadata": {},
   "source": [
    "<div style=\"background-color:#eef;padding:10px;border-radius:3px\">\n",
    "    <b>4.3.</b> Ecrivez le code permettant de tracer la courbe en utilisant la fonction <b><a href=\"https://matplotlib.org/api/_as_gen/matplotlib.pyplot.plot_date.html\">plt.plot_date</a></b>. Utilisez les autres possibilités de matplotlib pour améliorer l'affichage (titre, grille, noms des axes, etc.)\n",
    "\n",
    "<img src=\"TD1-graph2.png\">"
   ]
  },
  {
   "cell_type": "code",
   "execution_count": null,
   "metadata": {
    "collapsed": true
   },
   "outputs": [],
   "source": [
    "# votre code ici\n"
   ]
  },
  {
   "cell_type": "markdown",
   "metadata": {},
   "source": [
    "### 5. Afficher plusieurs courbes sur le même graphique (30 min.)"
   ]
  },
  {
   "cell_type": "markdown",
   "metadata": {},
   "source": [
    "<div style=\"background-color:#eef;padding:10px;border-radius:3px\">\n",
    "<b>5.1 -</b>\n",
    "Pour les 6 régions définies dans la liste ci-dessous, affichez les courbes de régularités dans la couleur associée sur le même graphique.\n",
    "\n",
    "<img src=\"TD1-graph3.png\">"
   ]
  },
  {
   "cell_type": "code",
   "execution_count": null,
   "metadata": {
    "collapsed": true
   },
   "outputs": [],
   "source": [
    "# Definition des régions et des couleurs de tracé\n",
    "regions = [(\"Rhône Alpes\",\"blue\"), (\"Auvergne\",\"green\"), (\"Auvergne-Rhône Alpes\",\"cyan\"), ('Bourgogne',\"red\"), \n",
    "           ('Franche Comté','orange'), ('Bourgogne-Franche Comté','olive') ]"
   ]
  },
  {
   "cell_type": "code",
   "execution_count": null,
   "metadata": {
    "collapsed": true
   },
   "outputs": [],
   "source": [
    "# votre code ici\n"
   ]
  },
  {
   "cell_type": "markdown",
   "metadata": {},
   "source": [
    "## Annexes (travail facultatif)"
   ]
  },
  {
   "cell_type": "markdown",
   "metadata": {},
   "source": [
    "L'objectif de cette partie est strictement similaire à la section 1 mais sans utiliser l'outil `DB Browser for SQLite`. Il s'agit donc de récupérer les données qui se trouvent dans le fichier `regularite-mensuelle-ter.csv` et de les importer dans une base SQLite en utilisant uniquement des fonctions Python."
   ]
  },
  {
   "cell_type": "markdown",
   "metadata": {},
   "source": [
    "### A.1. Lecture d'un fichier de données au format CSV en python"
   ]
  },
  {
   "cell_type": "markdown",
   "metadata": {},
   "source": [
    "<div style=\"background-color:#eef;padding:10px;border-radius:3px\">\n",
    "En vous aidant de la <a href=\"https://docs.python.org/3/library/csv.html\">doc python</a> pour lire un fichier csv, reproduisez le premier exemple de programme du § 14.1.1 en l'adaptant pour lire le fichier <tt>regularite-mensuelle-ter.csv</tt>. N'oubliez pas de préciser le caractère séparateur <i>(delimiter)</i> et celui servant à délimiter les valeurs <i>(quotechar)</i>. Si vous observez des caractères bizarres dans le résultat, consultez la <a href=\"https://docs.python.org/3.4/howto/unicode.html#reading-and-writing-unicode-data\">doc python</a> et spécifiez le format du fichier dans l'instruction <tt>open</tt>.\n",
    "\n",
    "Vous devriez observer un résultat similaire à celui-ci :\n",
    "    <img src=\"TD1-CSV.png\">\n",
    "    <p><b>N.B.</b> Une fois la liste obtenue, si elle vous paraît trop longue vous pouvez cliquer dans la colonne de gauche pour la replier et éviter d'encombrer la fenêtre du sujet..."
   ]
  },
  {
   "cell_type": "code",
   "execution_count": null,
   "metadata": {
    "collapsed": true
   },
   "outputs": [],
   "source": [
    "# votre code ici\n"
   ]
  },
  {
   "cell_type": "markdown",
   "metadata": {},
   "source": [
    "### A.2. Création d'une base de donnée SQLite en python"
   ]
  },
  {
   "cell_type": "markdown",
   "metadata": {},
   "source": [
    "<div style=\"background-color:#eef;padding:10px;border-radius:3px\">\n",
    "<b>A.2.1 -</b>\n",
    "En vous aidant du premier exemple de code de la <a href=\"https://docs.python.org/3.4/library/sqlite3.html\">doc python</a> sur l'utilisation de bases de données SQLite, créez une base de données nommée <tt>ter2.sqlite</tt> et observez dans le répertoire du TD l'appartion du fichier correspondant après exécution du code."
   ]
  },
  {
   "cell_type": "code",
   "execution_count": null,
   "metadata": {
    "collapsed": true
   },
   "outputs": [],
   "source": [
    "# votre code ici\n"
   ]
  },
  {
   "cell_type": "markdown",
   "metadata": {},
   "source": [
    "<div style=\"background-color:#eef;padding:10px;border-radius:3px\">\n",
    "<b>A.2.2 -</b>\n",
    "Toujours en vous basant sur la <a href=\"https://docs.python.org/3.4/library/sqlite3.html\">doc python</a>, ainsi que sur la <a href=\"https://sqlite.org/lang.html\">syntaxe SQL</a> supportée par la base SQLite, créez une table nommée <tt>regularite-mensuelle-ter</tt> avec les champs suivants :\n",
    "<pre style=\"background-color: transparent\">\n",
    "    ID                               // type texte\n",
    "\tDate                             // type texte,\n",
    "\tRégion                           // type texte,\n",
    "\tNombredetrainsprogrammés         // type entier\n",
    "\tNombredetrainsayantcirculé       // type entier\n",
    "\tNombredetrainsannulés            // type entier\n",
    "\tNombredetrainsenretardàlarrivée  // type entier\n",
    "\tTauxderégularité                 // type réel\n",
    "\tNombredetrainsàlheurepouruntrainenretardàlarrivée  // type réel\n",
    "\tCommentaires                     // type texte\n",
    "</pre>\n",
    "<p><b>N.B.</b> Pour permettre l'exécution répétée de votre cellule de code, ajoutez une instruction SQL pour supprimer la table si elle existe, avant de la recréer..."
   ]
  },
  {
   "cell_type": "code",
   "execution_count": null,
   "metadata": {
    "collapsed": true
   },
   "outputs": [],
   "source": [
    "# votre code ici\n"
   ]
  },
  {
   "cell_type": "markdown",
   "metadata": {},
   "source": [
    "Pour vérifier la bonne création de la base de donnée ter2.sqlite, ouvrez-la avec l'outil `DB Browser for SQLite`"
   ]
  },
  {
   "cell_type": "markdown",
   "metadata": {},
   "source": [
    "### A.3. Remplissage de la table de régularité"
   ]
  },
  {
   "cell_type": "markdown",
   "metadata": {},
   "source": [
    "<div style=\"background-color:#eef;padding:10px;border-radius:3px\">\n",
    "<b>A.3.1 -</b>\n",
    "A partir du code de la question A.1 permettant de lire le fichier CSV, créez un programme permettant d'insérer les données dans la table `regularite-mensuelle-ter`.\n",
    "\n",
    "Vérifiez l'apparition des données et la bonne exécution de votre programme à l'aide de `DB Browser for SQLite`"
   ]
  },
  {
   "cell_type": "code",
   "execution_count": null,
   "metadata": {
    "collapsed": true
   },
   "outputs": [],
   "source": [
    "# votre code ici\n"
   ]
  },
  {
   "cell_type": "markdown",
   "metadata": {},
   "source": [
    "A partir de ce point on a une base de donnée similaire à celle créée dans la section 1."
   ]
  },
  {
   "cell_type": "code",
   "execution_count": null,
   "metadata": {
    "collapsed": true
   },
   "outputs": [],
   "source": []
  }
 ],
 "metadata": {
  "kernelspec": {
   "display_name": "Python 3",
   "language": "python",
   "name": "python3"
  },
  "language_info": {
   "codemirror_mode": {
    "name": "ipython",
    "version": 3
   },
   "file_extension": ".py",
   "mimetype": "text/x-python",
   "name": "python",
   "nbconvert_exporter": "python",
   "pygments_lexer": "ipython3",
   "version": "3.6.6"
  }
 },
 "nbformat": 4,
 "nbformat_minor": 1
}
